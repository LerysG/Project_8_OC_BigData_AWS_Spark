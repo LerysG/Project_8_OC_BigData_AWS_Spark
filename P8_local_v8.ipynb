{
 "cells": [
  {
   "cell_type": "markdown",
   "id": "a12b3c9f",
   "metadata": {
    "ExecuteTime": {
     "end_time": "2021-09-17T07:18:31.459464Z",
     "start_time": "2021-09-17T07:18:31.436882Z"
    }
   },
   "source": [
    "---\n",
    "\n",
    "<h1> P8: Déployez un modèle dans le cloud (Big Data) <span class=\"tocSkip\"></span></h1>\n",
    "\n",
    "---\n"
   ]
  },
  {
   "cell_type": "markdown",
   "id": "37b6a624",
   "metadata": {},
   "source": [
    "Lérys Granado, PhD <br> Sept 2021"
   ]
  },
  {
   "cell_type": "markdown",
   "id": "94bb6793",
   "metadata": {},
   "source": [
    "## Notes\n",
    "\n",
    "### Enoncés OC\n",
    "\n",
    "Vous êtes donc chargé de **développer** dans un **environnement Big Data** une première chaîne de traitement des données qui comprendra le **preprocessing** et une étape de **réduction de dimension**.\n",
    "\n",
    "Il n’est **pas nécessaire d’entraîner un modèle** pour le moment.\n",
    "\n",
    "L’**important est de mettre en place les premières briques de traitement** qui serviront lorsqu’il faudra passer à l’échelle en termes de volume de données !\n",
    "\n",
    "**Contraintes** <br>\n",
    "Lors de son brief initial, Paul vous a averti des points suivants :\n",
    "\n",
    "Vous devrez tenir compte dans vos développements du fait que le volume de données va augmenter très rapidement après la livraison de ce projet. Vous développerez donc des scripts en **Pyspark** et utiliserez par exemple le cloud **AWS** pour profiter d’une architecture Big Data (EC2, S3, IAM), basée sur un serveur EC2 Linux.\n",
    "La mise en œuvre d’une architecture Big Data sous (par exemple) AWS peut nécessiter une configuration serveur plus puissante que celle proposée gratuitement (EC2 = t2.micro, 1 Go RAM, 8 Go disque serveur).\n",
    "\n",
    "**Livrables attendus**\n",
    "- Un **notebook** sur le cloud contenant les scripts en Pyspark exécutables (le preprocessing et une étape de réduction de dimension).\n",
    "- Les **images du jeu de données initial** ainsi que la **sortie de la réduction de dimension** (une matrice écrite sur un fichier CSV ou autre) **disponible dans un espace de stockage** sur le cloud.\n",
    "- Un support de présentation pour la soutenance, présentant :\n",
    "    - les différentes briques d'architecture choisies sur le cloud ;\n",
    "    - leur rôle dans l’architecture Big Data ;\n",
    "    - les étapes de la chaîne de traitement.\n",
    "    \n",
    "### Mon approche\n",
    "\n",
    "Pour la preuve-de-concept (et à cause des ressources limitées), j'ai sélectionné arbitrairement 4 catégories de fruits dans le jeux de données et sélectionné à chaque fois deux images random, **total = 8 images**. Je les ai uploadé sur mon serveur S3. Après une longue étape de set-up (j'ai essayé une dizaine d'instance), j'ai finalement opté d'héberger ce code sur une serveur **EC2 payant** (t2.medium, 4 Go RAM, 30 Go disque serveur, OS = Linux 18.x, 64-bit). L'étape d'installation de l'environement PySpark est **très très compliquée** . <br>\n",
    "\n",
    "Récap des étapes :\n",
    "- sélectionner  la bonne instance (EC2 ou SageMaker), avec la bonne mémoire et suffisamment de stockage,\n",
    "- créer un groupe de sécurité (configurer ssh particulièrement),\n",
    "- installer PuttY (convertir clé .pem en .ppk, setup la connextion ssh, attention au username = \"ec2-user\" **ou** \"ubuntu\"),\n",
    "- créer un bucket S3 (et setup les autorisations/droits en .json, grâce au générateur de stratégie),\n",
    "- créer un AMI user et bien garder les clés access et private,\n",
    "- **Dans le serveur EC2**, tout en ligne de commande :\n",
    "    - télécharger puis ```bash``` anaconda, https://repo.anaconda.com/archive/Anaconda3-2021.05-Linux-x86_64.sh **vraiment faire attention aux versions**, \n",
    "    - installer java ```sudo apt install openjdk-8-jre-headless```, **vraiment faire attention aux versions**, \n",
    "    - installer scala \n",
    "    - télécharger puis décompresser spark-3.0.3-hadoop-2.7, **vraiment faire attention aux versions**, \n",
    "    - gérer les credentials jupyter,\n",
    "    - envoyer tout ça dans le path, \n",
    "    - gérer les crédentials du S3 via les clés données par le AMI user (fichier .aws), ou ```aws configure``` (le cas échéant installer awscli : ```sudo apt install awscli```,\n",
    "    - ajouter tous les pkgs nécessaires (entre-autre tensorflow, py4j), \n",
    "    - ajuster le swap RAM de l'instance pour éviter les memory crashes."
   ]
  },
  {
   "cell_type": "markdown",
   "id": "388e76f3",
   "metadata": {},
   "source": [
    "## Setting env."
   ]
  },
  {
   "cell_type": "code",
   "execution_count": 1,
   "id": "3a83fe46",
   "metadata": {},
   "outputs": [],
   "source": [
    "import findspark\n",
    "findspark.init()"
   ]
  },
  {
   "cell_type": "code",
   "execution_count": 2,
   "id": "035c0df4",
   "metadata": {},
   "outputs": [],
   "source": [
    "import os\n",
    "import io\n",
    "import numpy as np\n",
    "import pandas as pd\n",
    "import seaborn as sns\n",
    "import matplotlib.pyplot as plt\n",
    "from PIL import Image\n",
    "# for connections to S3 AWS\n",
    "import boto3\n",
    "# pyspark modules\n",
    "import pyspark \n",
    "from pyspark.sql import SparkSession\n",
    "from pyspark import SparkContext, SparkConf\n",
    "from pyspark.sql.functions import col, pandas_udf, PandasUDFType, split\n",
    "from pyspark.ml.linalg import Vectors, VectorUDT\n",
    "from pyspark.sql.functions import udf\n",
    "from pyspark.ml.feature import StringIndexer, StandardScaler\n",
    "from pyspark.ml.feature import PCA\n",
    "# tnesorflow modules\n",
    "from tensorflow.keras.applications.resnet50 import ResNet50, preprocess_input\n",
    "from tensorflow.keras.preprocessing.image import img_to_array"
   ]
  },
  {
   "cell_type": "markdown",
   "id": "3268b4f0",
   "metadata": {},
   "source": [
    "## Check connexion ```EC2 <-> S3``` "
   ]
  },
  {
   "cell_type": "markdown",
   "id": "b6994db0",
   "metadata": {},
   "source": [
    "- check connexion and list data file"
   ]
  },
  {
   "cell_type": "code",
   "execution_count": 3,
   "id": "f2a49ffd",
   "metadata": {},
   "outputs": [
    {
     "name": "stdout",
     "output_type": "stream",
     "text": [
      "dataset/\n",
      "dataset/Apricot/0_100.jpg\n",
      "dataset/Apricot/1_100.jpg\n",
      "dataset/Chestnut/0_100.jpg\n",
      "dataset/Chestnut/1_100.jpg\n",
      "dataset/Pomegranate/112_100.jpg\n",
      "dataset/Pomegranate/113_100.jpg\n",
      "dataset/Watermelon/108_100.jpg\n",
      "dataset/Watermelon/109_100.jpg\n"
     ]
    }
   ],
   "source": [
    "connexion = boto3.client('s3')\n",
    "contents = connexion.list_objects(Bucket='<YOUR_BUCKET>', Prefix='<YOUR_DIRECTORY>')['Contents']\n",
    "for file in contents:\n",
    "    print(file['Key']) "
   ]
  },
  {
   "cell_type": "markdown",
   "id": "d8be093f",
   "metadata": {},
   "source": [
    "## Spark session kickoff"
   ]
  },
  {
   "cell_type": "markdown",
   "id": "eb57f9c2",
   "metadata": {},
   "source": [
    "- Setting pyspark env."
   ]
  },
  {
   "cell_type": "code",
   "execution_count": 4,
   "id": "f365ccbb",
   "metadata": {},
   "outputs": [],
   "source": [
    "os.environ['PYSPARK_SUBMIT_ARGS'] = '--packages com.amazonaws:aws-java-sdk-pom:1.10.34,org.apache.hadoop:hadoop-aws:2.7.2 pyspark-shell'"
   ]
  },
  {
   "cell_type": "markdown",
   "id": "fd7b679b",
   "metadata": {},
   "source": [
    "- Spark Session"
   ]
  },
  {
   "cell_type": "code",
   "execution_count": 5,
   "id": "ca32102e",
   "metadata": {},
   "outputs": [],
   "source": [
    "spark = (SparkSession\n",
    "         .builder.master('local[*]')\n",
    "         .appName('P8')\n",
    "         .config('spark.hadoop.fs.s3a.access.key', '<YOUR_ACC_KEY>')\n",
    "         .config('spark.hadoop.fs.s3a.secret.key', '<YOUR_SEC_KEY>') \n",
    "         .config('spark.hadoop.fs.s3a.impl', 'org.apache.hadoop.fs.s3a.S3AFileSystem') \n",
    "         .getOrCreate()\n",
    "        )"
   ]
  },
  {
   "cell_type": "markdown",
   "id": "3c851183",
   "metadata": {},
   "source": [
    "- Spark Context"
   ]
  },
  {
   "cell_type": "code",
   "execution_count": 6,
   "id": "4532d68d",
   "metadata": {},
   "outputs": [],
   "source": [
    "sc = spark.sparkContext\n",
    "sc.setSystemProperty('com.amazonaws.services.s3.enableV4', 'true')\n",
    "sc._jsc.hadoopConfiguration().set(\"fs.s3a.endpoint\", \"s3.eu-west-3.amazonaws.com\")"
   ]
  },
  {
   "cell_type": "markdown",
   "id": "6acc5776",
   "metadata": {},
   "source": [
    "## Import data in a Spark DataFrame"
   ]
  },
  {
   "cell_type": "markdown",
   "id": "278de5c6",
   "metadata": {},
   "source": [
    "- Import data from my bucket ```S3```"
   ]
  },
  {
   "cell_type": "code",
   "execution_count": 7,
   "id": "72b016f9",
   "metadata": {},
   "outputs": [
    {
     "name": "stdout",
     "output_type": "stream",
     "text": [
      "root\n",
      " |-- path: string (nullable = true)\n",
      " |-- modificationTime: timestamp (nullable = true)\n",
      " |-- length: long (nullable = true)\n",
      " |-- content: binary (nullable = true)\n",
      "\n"
     ]
    }
   ],
   "source": [
    "s3_url = \"s3a://<YOUR_BUCKET>/<YOUR_DIRECTORY>/*\"\n",
    "image_df = spark.read.format(\"binaryfile\").load(s3_url)\n",
    "image_df.printSchema()"
   ]
  },
  {
   "cell_type": "markdown",
   "id": "5893cdd4",
   "metadata": {},
   "source": [
    "- ```df``` organization was not satisfactory, let's reorganize it"
   ]
  },
  {
   "cell_type": "code",
   "execution_count": 8,
   "id": "69f0cbb3",
   "metadata": {},
   "outputs": [
    {
     "name": "stdout",
     "output_type": "stream",
     "text": [
      "+--------------------+--------------------+-----------+\n",
      "|                path|             content|      label|\n",
      "+--------------------+--------------------+-----------+\n",
      "|s3a://oc-p8-grana...|[FF D8 FF E0 00 1...| Watermelon|\n",
      "|s3a://oc-p8-grana...|[FF D8 FF E0 00 1...| Watermelon|\n",
      "|s3a://oc-p8-grana...|[FF D8 FF E0 00 1...|Pomegranate|\n",
      "|s3a://oc-p8-grana...|[FF D8 FF E0 00 1...|Pomegranate|\n",
      "|s3a://oc-p8-grana...|[FF D8 FF E0 00 1...|    Apricot|\n",
      "|s3a://oc-p8-grana...|[FF D8 FF E0 00 1...|    Apricot|\n",
      "|s3a://oc-p8-grana...|[FF D8 FF E0 00 1...|   Chestnut|\n",
      "|s3a://oc-p8-grana...|[FF D8 FF E0 00 1...|   Chestnut|\n",
      "+--------------------+--------------------+-----------+\n",
      "\n"
     ]
    }
   ],
   "source": [
    "image_df = image_df.withColumn('label', split(col('path'), '/').getItem(4))\n",
    "image_df = image_df.select('path', 'content', 'label')\n",
    "image_df.show()"
   ]
  },
  {
   "cell_type": "markdown",
   "id": "4b292caf",
   "metadata": {},
   "source": [
    "## Import pre-trained ResNet50 model"
   ]
  },
  {
   "cell_type": "markdown",
   "id": "f4fcd60c",
   "metadata": {},
   "source": [
    "- Importing model from ```keras``` but without top layer (classifier), because we only want this model to extract feature"
   ]
  },
  {
   "cell_type": "code",
   "execution_count": 9,
   "id": "4b049513",
   "metadata": {},
   "outputs": [],
   "source": [
    "model = ResNet50(include_top=False)"
   ]
  },
  {
   "cell_type": "markdown",
   "id": "cebbe2dc",
   "metadata": {},
   "source": [
    "- Broadcasting model weights to all nodes (avoiding each node to call ```.get_weights()``` individually)"
   ]
  },
  {
   "cell_type": "code",
   "execution_count": 10,
   "id": "cfcc7dc8",
   "metadata": {},
   "outputs": [],
   "source": [
    "bc_model_weights = spark.sparkContext.broadcast(model.get_weights()) "
   ]
  },
  {
   "cell_type": "markdown",
   "id": "96984c49",
   "metadata": {},
   "source": [
    "## Function definitions"
   ]
  },
  {
   "cell_type": "markdown",
   "id": "ef13e185",
   "metadata": {},
   "source": [
    "- Defining a series of functions that will be executed on all nodes, taken from following website: <br>\n",
    "https://docs.databricks.com/applications/machine-learning/preprocess-data/transfer-learning-tensorflow.html"
   ]
  },
  {
   "cell_type": "code",
   "execution_count": 11,
   "id": "a1f032fb",
   "metadata": {},
   "outputs": [],
   "source": [
    "def model_fn():\n",
    "    \"\"\"\n",
    "    Returns a ResNet50 model with top layer removed and broadcasted pretrained weights.\n",
    "    \"\"\"\n",
    "    model = ResNet50(weights=None, include_top=False) \n",
    "    model.set_weights(bc_model_weights.value)\n",
    "    return model"
   ]
  },
  {
   "cell_type": "markdown",
   "id": "d1d8d873",
   "metadata": {},
   "source": [
    "- Preprocessing"
   ]
  },
  {
   "cell_type": "code",
   "execution_count": 12,
   "id": "30cb813a",
   "metadata": {},
   "outputs": [],
   "source": [
    "def preprocess(content):\n",
    "    \"\"\"\n",
    "    Preprocesses raw image bytes for prediction.\n",
    "    \"\"\"\n",
    "    img = Image.open(io.BytesIO(content)).resize([224, 224])\n",
    "    arr = img_to_array(img)\n",
    "    return preprocess_input(arr) "
   ]
  },
  {
   "cell_type": "markdown",
   "id": "9bbb9e53",
   "metadata": {},
   "source": [
    "- Model predictions giving features as output"
   ]
  },
  {
   "cell_type": "code",
   "execution_count": 13,
   "id": "370bf393",
   "metadata": {},
   "outputs": [],
   "source": [
    "def featurize_series(model, content_series):\n",
    "    \n",
    "    \"\"\"\n",
    "    Featurize a pd.Series of raw images using the input model.\n",
    "    :return: a pd.Series of image features\n",
    "    \"\"\"\n",
    "    \n",
    "    input = np.stack(content_series.map(preprocess)) \n",
    "    preds = model.predict(input)\n",
    "    output = [p.flatten() for p in preds]\n",
    "    return pd.Series(output)"
   ]
  },
  {
   "cell_type": "markdown",
   "id": "0204601c",
   "metadata": {},
   "source": [
    "- Wrapping up all together using pandas udf to apply functions on ```spark df```"
   ]
  },
  {
   "cell_type": "code",
   "execution_count": 14,
   "id": "05521967",
   "metadata": {},
   "outputs": [
    {
     "name": "stderr",
     "output_type": "stream",
     "text": [
      "/home/ubuntu/spark-3.0.3-bin-hadoop2.7/python/pyspark/sql/pandas/functions.py:383: UserWarning: In Python 3.6+ and Spark 3.0+, it is preferred to specify type hints for pandas UDF instead of specifying pandas UDF type which will be deprecated in the future releases. See SPARK-28264 for more details.\n",
      "  warnings.warn(\n"
     ]
    }
   ],
   "source": [
    "@pandas_udf('array<float>', PandasUDFType.SCALAR_ITER)\n",
    "def featurize_udf(content_series_iter):\n",
    "    '''\n",
    "    This method is a Scalar Iterator pandas UDF wrapping our featurization function.\n",
    "    The decorator specifies that this returns a Spark DataFrame column of type ArrayType(FloatType).\n",
    "  \n",
    "    :param content_series_iter: This argument is an iterator over batches of data, where each batch\n",
    "                                is a pandas Series of image data.\n",
    "    '''\n",
    "    model = model_fn()\n",
    "    for content_series in content_series_iter:\n",
    "        yield featurize_series(model, content_series)"
   ]
  },
  {
   "cell_type": "markdown",
   "id": "5bde50ea",
   "metadata": {},
   "source": [
    "## Featurizing data"
   ]
  },
  {
   "cell_type": "markdown",
   "id": "40f637aa",
   "metadata": {},
   "source": [
    "-  Applying last functions using pandas udf, creating new column ```features```"
   ]
  },
  {
   "cell_type": "code",
   "execution_count": 15,
   "id": "2f53cfe6",
   "metadata": {},
   "outputs": [
    {
     "name": "stdout",
     "output_type": "stream",
     "text": [
      "root\n",
      " |-- path: string (nullable = true)\n",
      " |-- label: string (nullable = true)\n",
      " |-- features: array (nullable = true)\n",
      " |    |-- element: float (containsNull = true)\n",
      "\n",
      "+--------------------+-----------+--------------------+\n",
      "|                path|      label|            features|\n",
      "+--------------------+-----------+--------------------+\n",
      "|s3a://oc-p8-grana...| Watermelon|[0.0, 0.0, 0.0, 0...|\n",
      "|s3a://oc-p8-grana...| Watermelon|[0.0, 0.0, 0.0, 0...|\n",
      "|s3a://oc-p8-grana...|Pomegranate|[0.0, 0.0, 0.0, 0...|\n",
      "|s3a://oc-p8-grana...|Pomegranate|[0.0, 0.0, 0.0, 0...|\n",
      "|s3a://oc-p8-grana...|    Apricot|[0.0, 0.0, 0.0, 0...|\n",
      "|s3a://oc-p8-grana...|    Apricot|[0.0, 0.0, 0.0, 0...|\n",
      "|s3a://oc-p8-grana...|   Chestnut|[0.0, 0.0, 0.0, 0...|\n",
      "|s3a://oc-p8-grana...|   Chestnut|[0.0, 0.0, 0.0, 0...|\n",
      "+--------------------+-----------+--------------------+\n",
      "\n"
     ]
    }
   ],
   "source": [
    "features_df = image_df.select(col(\"path\"), col(\"label\"), featurize_udf(\"content\").alias(\"features\"))\n",
    "features_df.printSchema()\n",
    "features_df.show()"
   ]
  },
  {
   "cell_type": "markdown",
   "id": "0d8a70ee",
   "metadata": {},
   "source": [
    "- Postprocessing of features using ```Vectors.dense``` and pandas udf"
   ]
  },
  {
   "cell_type": "code",
   "execution_count": 16,
   "id": "a0ce7d41",
   "metadata": {},
   "outputs": [],
   "source": [
    "list_to_vector_udf = udf(lambda l: Vectors.dense(l), VectorUDT())\n",
    "features_df = features_df.select(col(\"path\"),  col(\"label\"), list_to_vector_udf(features_df[\"features\"]).alias(\"features\"))"
   ]
  },
  {
   "cell_type": "markdown",
   "id": "7d871510",
   "metadata": {},
   "source": [
    "## Principal Components Analysis"
   ]
  },
  {
   "cell_type": "markdown",
   "id": "6a503ef6",
   "metadata": {},
   "source": [
    "### Preprocessing\n",
    "- Input of PCA **must** be scaled"
   ]
  },
  {
   "cell_type": "code",
   "execution_count": 17,
   "id": "4395c6ac",
   "metadata": {
    "scrolled": true
   },
   "outputs": [],
   "source": [
    "standardizer = StandardScaler(withMean=True, withStd=True,\n",
    "                              inputCol='features',\n",
    "                              outputCol='feats_scaled')\n",
    "std = standardizer.fit(features_df)\n",
    "features_df_scaled = std.transform(features_df)"
   ]
  },
  {
   "cell_type": "code",
   "execution_count": 18,
   "id": "1f3cb657",
   "metadata": {},
   "outputs": [
    {
     "name": "stdout",
     "output_type": "stream",
     "text": [
      "root\n",
      " |-- path: string (nullable = true)\n",
      " |-- label: string (nullable = true)\n",
      " |-- features: vector (nullable = true)\n",
      " |-- feats_scaled: vector (nullable = true)\n",
      "\n",
      "+--------------------+-----------+--------------------+--------------------+\n",
      "|                path|      label|            features|        feats_scaled|\n",
      "+--------------------+-----------+--------------------+--------------------+\n",
      "|s3a://oc-p8-grana...| Watermelon|[0.0,0.0,0.0,0.0,...|[0.0,0.0,0.0,-0.3...|\n",
      "|s3a://oc-p8-grana...| Watermelon|[0.0,0.0,0.0,0.0,...|[0.0,0.0,0.0,-0.3...|\n",
      "|s3a://oc-p8-grana...|Pomegranate|[0.0,0.0,0.0,0.0,...|[0.0,0.0,0.0,-0.3...|\n",
      "|s3a://oc-p8-grana...|Pomegranate|[0.0,0.0,0.0,0.0,...|[0.0,0.0,0.0,-0.3...|\n",
      "|s3a://oc-p8-grana...|    Apricot|[0.0,0.0,0.0,0.10...|[0.0,0.0,0.0,2.47...|\n",
      "|s3a://oc-p8-grana...|    Apricot|[0.0,0.0,0.0,0.0,...|[0.0,0.0,0.0,-0.3...|\n",
      "|s3a://oc-p8-grana...|   Chestnut|[0.0,0.0,0.0,0.0,...|[0.0,0.0,0.0,-0.3...|\n",
      "|s3a://oc-p8-grana...|   Chestnut|[0.0,0.0,0.0,0.0,...|[0.0,0.0,0.0,-0.3...|\n",
      "+--------------------+-----------+--------------------+--------------------+\n",
      "\n"
     ]
    }
   ],
   "source": [
    "features_df_scaled.printSchema()\n",
    "features_df_scaled.show(8) "
   ]
  },
  {
   "cell_type": "markdown",
   "id": "1e672600",
   "metadata": {},
   "source": [
    "### PCA fit transform"
   ]
  },
  {
   "cell_type": "code",
   "execution_count": 19,
   "id": "66d59770",
   "metadata": {},
   "outputs": [],
   "source": [
    "pca = PCA(k=7, inputCol=\"feats_scaled\", outputCol=\"pca\")\n",
    "modelpca = pca.fit(features_df_scaled)\n",
    "transformed = modelpca.transform(features_df_scaled)"
   ]
  },
  {
   "cell_type": "code",
   "execution_count": 20,
   "id": "e78b4db8",
   "metadata": {},
   "outputs": [
    {
     "name": "stdout",
     "output_type": "stream",
     "text": [
      "root\n",
      " |-- path: string (nullable = true)\n",
      " |-- label: string (nullable = true)\n",
      " |-- features: vector (nullable = true)\n",
      " |-- feats_scaled: vector (nullable = true)\n",
      " |-- pca: vector (nullable = true)\n",
      "\n"
     ]
    }
   ],
   "source": [
    "transformed.printSchema()"
   ]
  },
  {
   "cell_type": "markdown",
   "id": "10270a77",
   "metadata": {},
   "source": [
    "- Variance vs. PCs"
   ]
  },
  {
   "cell_type": "code",
   "execution_count": 31,
   "id": "6476fadd",
   "metadata": {},
   "outputs": [
    {
     "data": {
      "image/png": "[encoded data removed]",
      "text/plain": [
       "<Figure size 432x288 with 1 Axes>"
      ]
     },
     "metadata": {
      "needs_background": "light"
     },
     "output_type": "display_data"
    }
   ],
   "source": [
    "var = modelpca.explainedVariance.cumsum()\n",
    "sns.set_context(context='poster', font_scale=0.8)\n",
    "sns.lineplot(x=[i for i in range(8)], y=np.insert(var,0,0)*100, color='deepskyblue')\n",
    "plt.xlabel('PCs')\n",
    "plt.ylabel('Variance (%)')\n",
    "plt.ylim(0,100)\n",
    "plt.xlim(left=0)\n",
    "plt.show()"
   ]
  },
  {
   "cell_type": "markdown",
   "id": "38323dc4",
   "metadata": {},
   "source": [
    "## Export PCs to S3 as csv"
   ]
  },
  {
   "cell_type": "code",
   "execution_count": 24,
   "id": "352f5d36",
   "metadata": {},
   "outputs": [],
   "source": [
    "transformed_final = transformed.select('path', 'label', 'pca')\n",
    "transformed_pandas = transformed_final.toPandas()"
   ]
  },
  {
   "cell_type": "code",
   "execution_count": 25,
   "id": "66dbc95a",
   "metadata": {},
   "outputs": [],
   "source": [
    "transformed_pandas.to_csv('s3://<YOUR_BUCKET>/<YOUR_DIRECTORY>/PCA_output_7_PCs.csv', index=False)"
   ]
  }
 ],
 "metadata": {
  "kernelspec": {
   "display_name": "Python 3 (ipykernel)",
   "language": "python",
   "name": "python3"
  },
  "language_info": {
   "codemirror_mode": {
    "name": "ipython",
    "version": 3
   },
   "file_extension": ".py",
   "mimetype": "text/x-python",
   "name": "python",
   "nbconvert_exporter": "python",
   "pygments_lexer": "ipython3",
   "version": "3.8.11"
  },
  "toc": {
   "base_numbering": 1,
   "nav_menu": {},
   "number_sections": true,
   "sideBar": true,
   "skip_h1_title": false,
   "title_cell": "Table of Contents",
   "title_sidebar": "Contents",
   "toc_cell": false,
   "toc_position": {},
   "toc_section_display": true,
   "toc_window_display": false
  },
  "varInspector": {
   "cols": {
    "lenName": 16,
    "lenType": 16,
    "lenVar": 40
   },
   "kernels_config": {
    "python": {
     "delete_cmd_postfix": "",
     "delete_cmd_prefix": "del ",
     "library": "var_list.py",
     "varRefreshCmd": "print(var_dic_list())"
    },
    "r": {
     "delete_cmd_postfix": ") ",
     "delete_cmd_prefix": "rm(",
     "library": "var_list.r",
     "varRefreshCmd": "cat(var_dic_list()) "
    }
   },
   "types_to_exclude": [
    "module",
    "function",
    "builtin_function_or_method",
    "instance",
    "_Feature"
   ],
   "window_display": true
  }
 },
 "nbformat": 4,
 "nbformat_minor": 5
}
